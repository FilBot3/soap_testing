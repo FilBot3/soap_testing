{
 "cells": [
  {
   "cell_type": "markdown",
   "id": "556c243b-695b-40c9-8ff2-08d80f8bf324",
   "metadata": {},
   "source": [
    "# Python Zeep SOAP Client\n",
    "\n",
    "First, we'll look at the SOAP URL and see what `Prefixes`, `Global Elements`, ` Global Types`,  `Bindings`, and `Services` are provided by the SOAP Service."
   ]
  },
  {
   "cell_type": "markdown",
   "id": "98fe05ea-5190-414e-9ef8-358c52c7751a",
   "metadata": {},
   "source": [
    "You can do this by running zeep as a CLI tool.\n",
    "\n",
    "```bash\n",
    "export WSDL_URL=\"http://www.dneonline.com/calculator.asmx?WSDL\"\n",
    "python -m zeep $WSDL_URL\n",
    "```"
   ]
  },
  {
   "cell_type": "markdown",
   "id": "2ab2a7c8-65b3-4bed-9ef4-a66e2ffdea05",
   "metadata": {},
   "source": [
    "This should return and print a lot of data to the screen. We'll walk through it using Python after examining it. Here is what should appear:\n",
    "\n",
    "```bash\n",
    "Prefixes:\n",
    "     xsd: http://www.w3.org/2001/XMLSchema\n",
    "     ns0: http://tempuri.org/\n",
    "\n",
    "Global elements:\n",
    "     ns0:Add(intA: xsd:int, intB: xsd:int)\n",
    "     ns0:AddResponse(AddResult: xsd:int)\n",
    "     ns0:Divide(intA: xsd:int, intB: xsd:int)\n",
    "     ns0:DivideResponse(DivideResult: xsd:int)\n",
    "     ns0:Multiply(intA: xsd:int, intB: xsd:int)\n",
    "     ns0:MultiplyResponse(MultiplyResult: xsd:int)\n",
    "     ns0:Subtract(intA: xsd:int, intB: xsd:int)\n",
    "     ns0:SubtractResponse(SubtractResult: xsd:int)\n",
    "     \n",
    "\n",
    "Global types:\n",
    "     xsd:anyType\n",
    "     xsd:ENTITIES\n",
    "     xsd:ENTITY\n",
    "     xsd:ID\n",
    "     xsd:IDREF\n",
    "     xsd:IDREFS\n",
    "     xsd:NCName\n",
    "     xsd:NMTOKEN\n",
    "     xsd:NMTOKENS\n",
    "     xsd:NOTATION\n",
    "     xsd:Name\n",
    "     xsd:QName\n",
    "     xsd:anySimpleType\n",
    "     xsd:anyURI\n",
    "     xsd:base64Binary\n",
    "     xsd:boolean\n",
    "     xsd:byte\n",
    "     xsd:date\n",
    "     xsd:dateTime\n",
    "     xsd:decimal\n",
    "     xsd:double\n",
    "     xsd:duration\n",
    "     xsd:float\n",
    "     xsd:gDay\n",
    "     xsd:gMonth\n",
    "     xsd:gMonthDay\n",
    "     xsd:gYear\n",
    "     xsd:gYearMonth\n",
    "     xsd:hexBinary\n",
    "     xsd:int\n",
    "     xsd:integer\n",
    "     xsd:language\n",
    "     xsd:long\n",
    "     xsd:negativeInteger\n",
    "     xsd:nonNegativeInteger\n",
    "     xsd:nonPositiveInteger\n",
    "     xsd:normalizedString\n",
    "     xsd:positiveInteger\n",
    "     xsd:short\n",
    "     xsd:string\n",
    "     xsd:time\n",
    "     xsd:token\n",
    "     xsd:unsignedByte\n",
    "     xsd:unsignedInt\n",
    "     xsd:unsignedLong\n",
    "     xsd:unsignedShort\n",
    "\n",
    "Bindings:\n",
    "     Soap11Binding: {http://tempuri.org/}CalculatorSoap\n",
    "     Soap12Binding: {http://tempuri.org/}CalculatorSoap12\n",
    "\n",
    "Service: Calculator\n",
    "     Port: CalculatorSoap (Soap11Binding: {http://tempuri.org/}CalculatorSoap)\n",
    "         Operations:\n",
    "            Add(intA: xsd:int, intB: xsd:int) -> AddResult: xsd:int\n",
    "            Divide(intA: xsd:int, intB: xsd:int) -> DivideResult: xsd:int\n",
    "            Multiply(intA: xsd:int, intB: xsd:int) -> MultiplyResult: xsd:int\n",
    "            Subtract(intA: xsd:int, intB: xsd:int) -> SubtractResult: xsd:int\n",
    "\n",
    "     Port: CalculatorSoap12 (Soap12Binding: {http://tempuri.org/}CalculatorSoap12)\n",
    "         Operations:\n",
    "            Add(intA: xsd:int, intB: xsd:int) -> AddResult: xsd:int\n",
    "            Divide(intA: xsd:int, intB: xsd:int) -> DivideResult: xsd:int\n",
    "            Multiply(intA: xsd:int, intB: xsd:int) -> MultiplyResult: xsd:int\n",
    "            Subtract(intA: xsd:int, intB: xsd:int) -> SubtractResult: xsd:int\n",
    "```"
   ]
  },
  {
   "cell_type": "markdown",
   "id": "6e70355c-8992-456f-a281-1e743bf1ad63",
   "metadata": {},
   "source": [
    "Let's take a look at this and go through each part.\n",
    "\n",
    "The top, first part, `Prefixes`. \n",
    "\n",
    "```\n",
    "Prefixes:\n",
    "     xsd: http://www.w3.org/2001/XMLSchema\n",
    "     ns0: http://tempuri.org/\n",
    "```\n",
    "\n",
    "These are Schemas and Name spaces that provide a common structure and if any custom elements are added, they're in a name space so they don't overwrite the default stuff. "
   ]
  },
  {
   "cell_type": "markdown",
   "id": "6443c3c3-358e-4cfc-a916-50983d9f4650",
   "metadata": {},
   "source": [
    "The next part is `Global Elements`. \n",
    "\n",
    "```\n",
    "Global elements:\n",
    "     ns0:Add(intA: xsd:int, intB: xsd:int)\n",
    "     ns0:AddResponse(AddResult: xsd:int)\n",
    "     ns0:Divide(intA: xsd:int, intB: xsd:int)\n",
    "     ns0:DivideResponse(DivideResult: xsd:int)\n",
    "     ns0:Multiply(intA: xsd:int, intB: xsd:int)\n",
    "     ns0:MultiplyResponse(MultiplyResult: xsd:int)\n",
    "     ns0:Subtract(intA: xsd:int, intB: xsd:int)\n",
    "     ns0:SubtractResponse(SubtractResult: xsd:int)\n",
    "```\n",
    "\n",
    "These show you name space and `Service` functions available. If there was a second service or a version 2, it would most likely show the same service, just in a different namespace."
   ]
  },
  {
   "cell_type": "markdown",
   "id": "5e71f5e2-80ae-4727-9a48-bca01b28e1ce",
   "metadata": {},
   "source": [
    "The `Global Types` section.\n",
    "\n",
    "```\n",
    "Global types:\n",
    "     xsd:anyType\n",
    "     xsd:ENTITIES\n",
    "     xsd:ENTITY\n",
    "     xsd:ID\n",
    "     xsd:IDREF\n",
    "     xsd:IDREFS\n",
    "     xsd:NCName\n",
    "     xsd:NMTOKEN\n",
    "     xsd:NMTOKENS\n",
    "     xsd:NOTATION\n",
    "     xsd:Name\n",
    "     xsd:QName\n",
    "     xsd:anySimpleType\n",
    "     xsd:anyURI\n",
    "     xsd:base64Binary\n",
    "     xsd:boolean\n",
    "     xsd:byte\n",
    "     xsd:date\n",
    "     xsd:dateTime\n",
    "     xsd:decimal\n",
    "     xsd:double\n",
    "     xsd:duration\n",
    "     xsd:float\n",
    "     xsd:gDay\n",
    "     xsd:gMonth\n",
    "     xsd:gMonthDay\n",
    "     xsd:gYear\n",
    "     xsd:gYearMonth\n",
    "     xsd:hexBinary\n",
    "     xsd:int\n",
    "     xsd:integer\n",
    "     xsd:language\n",
    "     xsd:long\n",
    "     xsd:negativeInteger\n",
    "     xsd:nonNegativeInteger\n",
    "     xsd:nonPositiveInteger\n",
    "     xsd:normalizedString\n",
    "     xsd:positiveInteger\n",
    "     xsd:short\n",
    "     xsd:string\n",
    "     xsd:time\n",
    "     xsd:token\n",
    "     xsd:unsignedByte\n",
    "     xsd:unsignedInt\n",
    "     xsd:unsignedLong\n",
    "     xsd:unsignedShort\n",
    "```\n",
    "\n",
    "This part shows all the different types that are supported by the WSDL and the remote SOAP service. Most of these will be supported by the SOAP Service and your programming language."
   ]
  },
  {
   "cell_type": "markdown",
   "id": "6ee6be60-3b39-4f33-9e51-e14e6766a5f2",
   "metadata": {},
   "source": [
    "The `Bindings`.\n",
    "\n",
    "```\n",
    "Bindings:\n",
    "     Soap11Binding: {http://tempuri.org/}CalculatorSoap\n",
    "     Soap12Binding: {http://tempuri.org/}CalculatorSoap12\n",
    "```\n",
    "\n",
    "These `Bindings` allow you to specify different Ports, or versions of the Service we're wanting to use."
   ]
  },
  {
   "cell_type": "markdown",
   "id": "df57caa4-4d0b-49ee-89a9-9392f52e9b0a",
   "metadata": {},
   "source": [
    "Now we get to the main fun part, interacting with the `Service`.\n",
    "\n",
    "```\n",
    "Service: Calculator\n",
    "     Port: CalculatorSoap (Soap11Binding: {http://tempuri.org/}CalculatorSoap)\n",
    "         Operations:\n",
    "            Add(intA: xsd:int, intB: xsd:int) -> AddResult: xsd:int\n",
    "            Divide(intA: xsd:int, intB: xsd:int) -> DivideResult: xsd:int\n",
    "            Multiply(intA: xsd:int, intB: xsd:int) -> MultiplyResult: xsd:int\n",
    "            Subtract(intA: xsd:int, intB: xsd:int) -> SubtractResult: xsd:int\n",
    "\n",
    "     Port: CalculatorSoap12 (Soap12Binding: {http://tempuri.org/}CalculatorSoap12)\n",
    "         Operations:\n",
    "            Add(intA: xsd:int, intB: xsd:int) -> AddResult: xsd:int\n",
    "            Divide(intA: xsd:int, intB: xsd:int) -> DivideResult: xsd:int\n",
    "            Multiply(intA: xsd:int, intB: xsd:int) -> MultiplyResult: xsd:int\n",
    "            Subtract(intA: xsd:int, intB: xsd:int) -> SubtractResult: xsd:int\n",
    "```\n",
    "\n",
    "Here we have a `Service` named Calculator with two `Ports`. For now we won't worry about which port we use, but we can bind to specific ones if we desire so. We'll simply call this by `Calculator` in our application."
   ]
  },
  {
   "cell_type": "markdown",
   "id": "328882b6-d266-4a2f-bc4e-10f879c9a898",
   "metadata": {},
   "source": [
    "# The Python Code\n",
    "\n",
    "Using the SOAP WSDL Endpoint we just used, we'll do a simple action, then walk through the objects."
   ]
  },
  {
   "cell_type": "code",
   "execution_count": 3,
   "id": "8a5bc1c7-87aa-4974-944d-5855a8040bc7",
   "metadata": {},
   "outputs": [],
   "source": [
    "import os\n",
    "import zeep\n",
    "\n",
    "\n",
    "def main():\n",
    "    \"\"\"Main\n",
    "    \"\"\"\n",
    "    wsdl_url = os.environ.get('WSDL_URL')\n",
    "    soap = zeep.Client(wsdl=wsdl_url, \n",
    "                       service_name=\"Calculator\",\n",
    "                       port_name=\"CalculatorSoap12\")\n",
    "    result = soap.service.Add(5, 5)\n",
    "    \n",
    "    assert result == 10\n",
    "    \n",
    "main()\n",
    "    \n",
    "if __name__ == '__main__':\n",
    "    os.environ['WSDL_URL'] = \"http://www.dneonline.com/calculator.asmx?WSDL\"\n",
    "    main()"
   ]
  },
  {
   "cell_type": "markdown",
   "id": "5c0e7c97-257a-45c6-bd74-457071ff5d97",
   "metadata": {},
   "source": [
    "This script should return an integer with our two numbers added together. We've specified a few parameters to our `zeep.Client` function. First was our `wsdl=`. This is the URL to the WSDL document we're wanting to use. The `service_name=` is denoted by the Services listed in the output or in the WSDL we're using. The `port_name=` is also part of the Services listed in the WSDL or output from the previous command. We make our client, then we use `soap.service.Add(5, 5)`. How does the program know to use that `Add()`? It's because we specified which Service, and Port to bind to which provides that function. You may notice there are two different Ports. One is a SOAP 11 and one is a SOAP 12 port as kind of denoted by the name of the Port.\n",
    "\n",
    "How could one programmatically go through this? We'll use Python's `dir()` function. To my mind at first, this meant, directory. However, it's used to see what attributes are available to an object in Python. These objects are typically returned in an Array so you could iterate through that list and see what's available.\n",
    "\n",
    "Let's walk through a few objects. Start up the Python REPL tool."
   ]
  },
  {
   "cell_type": "markdown",
   "id": "582d7b90-cf84-47b6-a37a-1a060a1ffcc9",
   "metadata": {},
   "source": [
    "```bash\n",
    "python\n",
    "```"
   ]
  },
  {
   "cell_type": "markdown",
   "id": "14823552-f1e8-415d-8aad-02f34be68060",
   "metadata": {},
   "source": [
    "Now we can start our journy."
   ]
  },
  {
   "cell_type": "code",
   "execution_count": 2,
   "id": "4327641e-2f92-4c20-9052-68cf99f31bbc",
   "metadata": {},
   "outputs": [
    {
     "data": {
      "text/plain": [
       "['__class__',\n",
       " '__delattr__',\n",
       " '__dict__',\n",
       " '__dir__',\n",
       " '__doc__',\n",
       " '__eq__',\n",
       " '__format__',\n",
       " '__ge__',\n",
       " '__getattribute__',\n",
       " '__gt__',\n",
       " '__hash__',\n",
       " '__init__',\n",
       " '__init_subclass__',\n",
       " '__le__',\n",
       " '__lt__',\n",
       " '__module__',\n",
       " '__ne__',\n",
       " '__new__',\n",
       " '__reduce__',\n",
       " '__reduce_ex__',\n",
       " '__repr__',\n",
       " '__setattr__',\n",
       " '__sizeof__',\n",
       " '__str__',\n",
       " '__subclasshook__',\n",
       " '__weakref__',\n",
       " '_default_port_name',\n",
       " '_default_service',\n",
       " '_default_service_name',\n",
       " '_default_soapheaders',\n",
       " '_default_transport',\n",
       " '_get_port',\n",
       " '_get_service',\n",
       " 'bind',\n",
       " 'create_message',\n",
       " 'create_service',\n",
       " 'get_element',\n",
       " 'get_type',\n",
       " 'namespaces',\n",
       " 'plugins',\n",
       " 'service',\n",
       " 'set_default_soapheaders',\n",
       " 'set_ns_prefix',\n",
       " 'settings',\n",
       " 'transport',\n",
       " 'type_factory',\n",
       " 'wsdl',\n",
       " 'wsse']"
      ]
     },
     "execution_count": 2,
     "metadata": {},
     "output_type": "execute_result"
    }
   ],
   "source": [
    "import os\n",
    "import zeep\n",
    "os.environ['WSDL_URL'] = \"http://www.dneonline.com/calculator.asmx?WSDL\"\n",
    "soap = zeep.Client(wsdl=os.environ.get('WSDL_URL'))\n",
    "dir(soap)\n",
    "# => ['__class__', '__delattr__', '__dict__', '__dir__', '__doc__', '__eq__', '__format__', '__ge__', '__getattribute__', '__gt__', '__hash__', '__init__', '__init_subclass__', '__le__', '__lt__', '__module__', '__ne__', '__new__', '__reduce__', '__reduce_ex__', '__repr__', '__setattr__', '__sizeof__', '__str__', '__subclasshook__', '__weakref__', '_default_port_name', '_default_service', '_default_service_name', '_default_soapheaders', '_get_port', '_get_service', 'bind', 'create_message', 'create_service', 'get_element', 'get_type', 'namespaces', 'plugins', 'service', 'set_default_soapheaders', 'set_ns_prefix', 'settings', 'transport', 'type_factory', 'wsdl', 'wsse']"
   ]
  },
  {
   "cell_type": "markdown",
   "id": "605db225-300c-43dc-ac4e-67664289f93c",
   "metadata": {},
   "source": [
    "The parts we're really interested in are the ones that don't contain `__` in them. So let's start with the `wsdl` attribute."
   ]
  },
  {
   "cell_type": "code",
   "execution_count": 4,
   "id": "5b7290c9-dc39-4b16-bbd4-399d8c815c71",
   "metadata": {},
   "outputs": [
    {
     "data": {
      "text/plain": [
       "['__class__',\n",
       " '__delattr__',\n",
       " '__dict__',\n",
       " '__dir__',\n",
       " '__doc__',\n",
       " '__eq__',\n",
       " '__format__',\n",
       " '__ge__',\n",
       " '__getattribute__',\n",
       " '__gt__',\n",
       " '__hash__',\n",
       " '__init__',\n",
       " '__init_subclass__',\n",
       " '__le__',\n",
       " '__lt__',\n",
       " '__module__',\n",
       " '__ne__',\n",
       " '__new__',\n",
       " '__reduce__',\n",
       " '__reduce_ex__',\n",
       " '__repr__',\n",
       " '__setattr__',\n",
       " '__sizeof__',\n",
       " '__str__',\n",
       " '__subclasshook__',\n",
       " '__weakref__',\n",
       " '_add_definition',\n",
       " '_definitions',\n",
       " '_get_xml_document',\n",
       " 'bindings',\n",
       " 'dump',\n",
       " 'load',\n",
       " 'location',\n",
       " 'messages',\n",
       " 'port_types',\n",
       " 'services',\n",
       " 'settings',\n",
       " 'transport',\n",
       " 'types']"
      ]
     },
     "execution_count": 4,
     "metadata": {},
     "output_type": "execute_result"
    }
   ],
   "source": [
    "dir(soap.wsdl)\n",
    "# => ['__class__', '__delattr__', '__dict__', '__dir__', '__doc__', '__eq__', '__format__', '__ge__', '__getattribute__', '__gt__', '__hash__', '__init__', '__init_subclass__', '__le__', '__lt__', '__module__', '__ne__', '__new__', '__reduce__', '__reduce_ex__', '__repr__', '__setattr__', '__sizeof__', '__str__', '__subclasshook__', '__weakref__', '_add_definition', '_definitions', '_get_xml_document', 'bindings', 'dump', 'location', 'messages', 'port_types', 'services', 'settings', 'transport', 'types']"
   ]
  },
  {
   "cell_type": "markdown",
   "id": "b19c21b3-7fdd-439e-94be-ae04e1560448",
   "metadata": {},
   "source": [
    "Here we can start to see how Python presents the WSDL we're using. Since no one, literally NO ONE, likes working with XML, it's presented as Python primitives. Let's checkout the `soap.wsdl.services` since we're working with Services above."
   ]
  },
  {
   "cell_type": "code",
   "execution_count": 5,
   "id": "4d95fd1f-236e-4409-af71-544c0d9e1a6f",
   "metadata": {},
   "outputs": [
    {
     "data": {
      "text/plain": [
       "['__class__',\n",
       " '__class_getitem__',\n",
       " '__contains__',\n",
       " '__delattr__',\n",
       " '__delitem__',\n",
       " '__dict__',\n",
       " '__dir__',\n",
       " '__doc__',\n",
       " '__eq__',\n",
       " '__format__',\n",
       " '__ge__',\n",
       " '__getattribute__',\n",
       " '__getitem__',\n",
       " '__gt__',\n",
       " '__hash__',\n",
       " '__init__',\n",
       " '__init_subclass__',\n",
       " '__ior__',\n",
       " '__iter__',\n",
       " '__le__',\n",
       " '__len__',\n",
       " '__lt__',\n",
       " '__ne__',\n",
       " '__new__',\n",
       " '__or__',\n",
       " '__reduce__',\n",
       " '__reduce_ex__',\n",
       " '__repr__',\n",
       " '__reversed__',\n",
       " '__ror__',\n",
       " '__setattr__',\n",
       " '__setitem__',\n",
       " '__sizeof__',\n",
       " '__str__',\n",
       " '__subclasshook__',\n",
       " 'clear',\n",
       " 'copy',\n",
       " 'fromkeys',\n",
       " 'get',\n",
       " 'items',\n",
       " 'keys',\n",
       " 'move_to_end',\n",
       " 'pop',\n",
       " 'popitem',\n",
       " 'setdefault',\n",
       " 'update',\n",
       " 'values']"
      ]
     },
     "execution_count": 5,
     "metadata": {},
     "output_type": "execute_result"
    }
   ],
   "source": [
    "dir(soap.wsdl.services)\n",
    "# => ['__class__', '__contains__', '__delattr__', '__delitem__', '__dict__', '__dir__', '__doc__', '__eq__', '__format__', '__ge__', '__getattribute__', '__getitem__', '__gt__', '__hash__', '__init__', '__init_subclass__', '__iter__', '__le__', '__len__', '__lt__', '__ne__', '__new__', '__reduce__', '__reduce_ex__', '__repr__', '__reversed__', '__setattr__', '__setitem__', '__sizeof__', '__str__', '__subclasshook__', 'clear', 'copy', 'fromkeys', 'get', 'items', 'keys', 'move_to_end', 'pop', 'popitem', 'setdefault', 'update', 'values']"
   ]
  },
  {
   "cell_type": "markdown",
   "id": "292ffa1b-f7ac-4461-bd3e-81d5a2319a84",
   "metadata": {},
   "source": [
    "Now, you can see what `items` are available in the Services. You can also view the `keys` as well."
   ]
  },
  {
   "cell_type": "code",
   "execution_count": 8,
   "id": "079f1f5e-f519-47a1-af53-3f4cec26f657",
   "metadata": {},
   "outputs": [
    {
     "data": {
      "text/plain": [
       "odict_keys(['Calculator'])"
      ]
     },
     "execution_count": 8,
     "metadata": {},
     "output_type": "execute_result"
    }
   ],
   "source": [
    "soap.wsdl.services.keys()\n",
    "# => odict_keys(['Calculator'])"
   ]
  },
  {
   "cell_type": "code",
   "execution_count": 9,
   "id": "08b13807-6af3-4eda-846a-eadc09e6dbe1",
   "metadata": {},
   "outputs": [
    {
     "data": {
      "text/plain": [
       "odict_items([('Calculator', <Service(name='Calculator', ports=OrderedDict([('CalculatorSoap', <Port(name='CalculatorSoap', binding=<Soap11Binding(name='{http://tempuri.org/}CalculatorSoap', port_type=<PortType(name='{http://tempuri.org/}CalculatorSoap')>)>, {'address': 'http://www.dneonline.com/calculator.asmx'})>), ('CalculatorSoap12', <Port(name='CalculatorSoap12', binding=<Soap12Binding(name='{http://tempuri.org/}CalculatorSoap12', port_type=<PortType(name='{http://tempuri.org/}CalculatorSoap')>)>, {'address': 'http://www.dneonline.com/calculator.asmx'})>)]))>)])"
      ]
     },
     "execution_count": 9,
     "metadata": {},
     "output_type": "execute_result"
    }
   ],
   "source": [
    "soap.wsdl.services.items()\n",
    "# => odict_items([('Calculator', <Service(name='Calculator', ports=OrderedDict([('CalculatorSoap', <Port(name='CalculatorSoap', binding=<Soap11Binding(name='{http://tempuri.org/}CalculatorSoap', port_type=<PortType(name='{http://tempuri.org/}CalculatorSoap')>)>, {'address': 'http://www.dneonline.com/calculator.asmx'})>), ('CalculatorSoap12', <Port(name='CalculatorSoap12', binding=<Soap12Binding(name='{http://tempuri.org/}CalculatorSoap12', port_type=<PortType(name='{http://tempuri.org/}CalculatorSoap')>)>, {'address': 'http://www.dneonline.com/calculator.asmx'})>)]))>)])"
   ]
  },
  {
   "cell_type": "markdown",
   "id": "f0b1877b-e7a1-40c3-8fc9-8059e8a9c61c",
   "metadata": {},
   "source": [
    "This shows us a few things, but isn't super helpful all the time. Let's walk through the `soap.service` object."
   ]
  },
  {
   "cell_type": "code",
   "execution_count": 10,
   "id": "397b460f-008e-4c60-8f54-ad37eb0d7af3",
   "metadata": {},
   "outputs": [
    {
     "data": {
      "text/plain": [
       "['Add',\n",
       " 'Divide',\n",
       " 'Multiply',\n",
       " 'Subtract',\n",
       " '__class__',\n",
       " '__delattr__',\n",
       " '__dir__',\n",
       " '__doc__',\n",
       " '__eq__',\n",
       " '__format__',\n",
       " '__ge__',\n",
       " '__get__',\n",
       " '__getattribute__',\n",
       " '__gt__',\n",
       " '__hash__',\n",
       " '__init__',\n",
       " '__init_subclass__',\n",
       " '__le__',\n",
       " '__lt__',\n",
       " '__ne__',\n",
       " '__new__',\n",
       " '__reduce__',\n",
       " '__reduce_ex__',\n",
       " '__repr__',\n",
       " '__self__',\n",
       " '__self_class__',\n",
       " '__setattr__',\n",
       " '__sizeof__',\n",
       " '__str__',\n",
       " '__subclasshook__',\n",
       " '__thisclass__']"
      ]
     },
     "execution_count": 10,
     "metadata": {},
     "output_type": "execute_result"
    }
   ],
   "source": [
    "dir(soap.service)\n",
    "# => ['Add', 'Divide', 'Multiply', 'Subtract', '__class__', '__delattr__', '__dir__', '__doc__', '__eq__', '__format__', '__ge__', '__get__', '__getattribute__', '__gt__', '__hash__', '__init__', '__init_subclass__', '__le__', '__lt__', '__ne__', '__new__', '__reduce__', '__reduce_ex__', '__repr__', '__self__', '__self_class__', '__setattr__', '__sizeof__', '__str__', '__subclasshook__', '__thisclass__']"
   ]
  },
  {
   "cell_type": "markdown",
   "id": "32c341b9-fe15-450d-b72a-6ea819763c8b",
   "metadata": {},
   "source": [
    "Whoa! Look at that, we've got our Methods we're wanting. There's not much else to explore at this point. We know we can call `soap.service.Add()` and pass it the parameters specified in the WSDL and the very first command output we made."
   ]
  },
  {
   "cell_type": "markdown",
   "id": "34255792-045c-4138-ac30-093a0710dab0",
   "metadata": {},
   "source": [
    "# References\n",
    "\n",
    "* [Python Language](https://python.org)\n",
    "* [Python Zeep](https://pypi.org/project/zeep/) [Docs](https://docs.python-zeep.org/)"
   ]
  },
  {
   "cell_type": "code",
   "execution_count": null,
   "id": "bd315670-82b7-4dae-97d0-6d6799b2fbf5",
   "metadata": {},
   "outputs": [],
   "source": []
  }
 ],
 "metadata": {
  "kernelspec": {
   "display_name": "Python 3 (ipykernel)",
   "language": "python",
   "name": "python3"
  },
  "language_info": {
   "codemirror_mode": {
    "name": "ipython",
    "version": 3
   },
   "file_extension": ".py",
   "mimetype": "text/x-python",
   "name": "python",
   "nbconvert_exporter": "python",
   "pygments_lexer": "ipython3",
   "version": "3.9.6"
  }
 },
 "nbformat": 4,
 "nbformat_minor": 5
}
